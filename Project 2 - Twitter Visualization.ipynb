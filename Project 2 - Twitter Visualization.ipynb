{
 "cells": [
  {
   "cell_type": "markdown",
   "metadata": {},
   "source": [
    "# Project Unit 2 - Visualization\n",
    "**Fatima Martínez Torres**\n",
    "\n",
    "I will be working here with the data extracted from Twitter Archiver only due to the amount of information can be extracted from it.\n",
    "\n",
    "Just bare in mind that this dataset contains 300 entries only, but the information to be obtained from it is valuable.\n",
    "\n",
    "## Problematic\n",
    "Social media is a strong media that have been getting recognized and used wordwide. Thus, more organizations, companies, enterprises, opt to take advantage of this technology to be know in their industry gathering their target.\n",
    "\n",
    "That is nothing but the case of campaigns that promotes the Awarness of differente diseases. In this particular case, Breast Cancer, which has its commemorative month (October) to remember those warriors that have or had been through this challenging war.\n",
    "\n",
    "The more recognized this event is, the more people interested to help and put the effort to adds. However, there is just a few dependencies that are able to spread their campaigns through social media with success because they know who to contact.\n",
    "\n",
    "This part of the project aims to the analysis of this years records to spread a Brest Cancer Awareness campaing through Twitter based on the engagement of each post."
   ]
  },
  {
   "cell_type": "code",
   "execution_count": 1,
   "metadata": {},
   "outputs": [],
   "source": [
    "import warnings # Library to ommit the warnings on this Notebook\n",
    "import numpy as np\n",
    "import pandas as pd\n",
    "import matplotlib.pyplot as plt\n",
    "\n",
    "warnings.filterwarnings(\"ignore\")"
   ]
  },
  {
   "cell_type": "markdown",
   "metadata": {},
   "source": [
    "## Data Importation\n",
    "I decided not to use the following columns due to the next reasons:\n",
    "\n",
    "* **Tweet ID** It does not give valuable information for this project.\n",
    "* **Media** In this time, I will not work with this data.\n",
    "* **Location** It barely has records in the dataset.\n",
    "* **Timezone** It does ot add to this project.\n",
    "* **Profile Image** I this project, I will not use this type of information.\n",
    "\n",
    "Thus, I can ommit those columns on the importation of the data."
   ]
  },
  {
   "cell_type": "code",
   "execution_count": 2,
   "metadata": {
    "scrolled": true
   },
   "outputs": [],
   "source": [
    "# Import the csv file obtained from the previous project with only the columns needed\n",
    "df = pd.read_csv('Data/OctubreRosaTwitterArchiver.csv', usecols=['Date', 'Screen Name', 'Full Name', 'Tweet Text',\n",
    "                                                                'Link(s)', 'Retweets', 'Favorites', 'App', 'Followers',\n",
    "                                                                'Follows', 'Listed', 'Verfied', 'User Since',\n",
    "                                                                'Location.1', 'Bio', 'Website'])"
   ]
  },
  {
   "cell_type": "code",
   "execution_count": 3,
   "metadata": {},
   "outputs": [
    {
     "data": {
      "text/html": [
       "<div>\n",
       "<style scoped>\n",
       "    .dataframe tbody tr th:only-of-type {\n",
       "        vertical-align: middle;\n",
       "    }\n",
       "\n",
       "    .dataframe tbody tr th {\n",
       "        vertical-align: top;\n",
       "    }\n",
       "\n",
       "    .dataframe thead th {\n",
       "        text-align: right;\n",
       "    }\n",
       "</style>\n",
       "<table border=\"1\" class=\"dataframe\">\n",
       "  <thead>\n",
       "    <tr style=\"text-align: right;\">\n",
       "      <th></th>\n",
       "      <th>Date</th>\n",
       "      <th>Screen Name</th>\n",
       "      <th>Full Name</th>\n",
       "      <th>Tweet Text</th>\n",
       "      <th>Link(s)</th>\n",
       "      <th>Retweets</th>\n",
       "      <th>Favorites</th>\n",
       "      <th>App</th>\n",
       "      <th>Followers</th>\n",
       "      <th>Follows</th>\n",
       "      <th>Listed</th>\n",
       "      <th>Verfied</th>\n",
       "      <th>User Since</th>\n",
       "      <th>Location.1</th>\n",
       "      <th>Bio</th>\n",
       "      <th>Website</th>\n",
       "    </tr>\n",
       "  </thead>\n",
       "  <tbody>\n",
       "    <tr>\n",
       "      <th>0</th>\n",
       "      <td>21/10/2020 14:26</td>\n",
       "      <td>@CecytemJocot</td>\n",
       "      <td>CECyTEM Jocotitlán</td>\n",
       "      <td>#OctubreRosa. El cáncer de mama se puede preve...</td>\n",
       "      <td>http://salud.edomex.gob.mx</td>\n",
       "      <td>0</td>\n",
       "      <td>0</td>\n",
       "      <td>Twitter for Android</td>\n",
       "      <td>452</td>\n",
       "      <td>132</td>\n",
       "      <td>2</td>\n",
       "      <td>NaN</td>\n",
       "      <td>31/5/2015</td>\n",
       "      <td>Jocotitlán, México</td>\n",
       "      <td>NaN</td>\n",
       "      <td>http://facebook.com/CecytemPlantelJocotitlan</td>\n",
       "    </tr>\n",
       "    <tr>\n",
       "      <th>1</th>\n",
       "      <td>21/10/2020 14:15</td>\n",
       "      <td>@CecytemChicolpn</td>\n",
       "      <td>CECyTEM Chicoloapan</td>\n",
       "      <td>#ÉchaleUnaManoATuSalud #OctubreRosa El cáncer ...</td>\n",
       "      <td>http://salud.edomex.gob.mx</td>\n",
       "      <td>0</td>\n",
       "      <td>0</td>\n",
       "      <td>Twitter Web App</td>\n",
       "      <td>643</td>\n",
       "      <td>393</td>\n",
       "      <td>4</td>\n",
       "      <td>NaN</td>\n",
       "      <td>26/5/2015</td>\n",
       "      <td>Chicoloapan de Juárez</td>\n",
       "      <td>NaN</td>\n",
       "      <td>http://facebook.com/CecytemPlantelChicoloapan</td>\n",
       "    </tr>\n",
       "    <tr>\n",
       "      <th>2</th>\n",
       "      <td>21/10/2020 14:14</td>\n",
       "      <td>@CecytemJilotep</td>\n",
       "      <td>CECyTEM Jilotepec</td>\n",
       "      <td>Acude a tu médico o realiza la autoexploración...</td>\n",
       "      <td>NaN</td>\n",
       "      <td>0</td>\n",
       "      <td>0</td>\n",
       "      <td>Twitter for Android</td>\n",
       "      <td>388</td>\n",
       "      <td>165</td>\n",
       "      <td>2</td>\n",
       "      <td>NaN</td>\n",
       "      <td>10/7/2015</td>\n",
       "      <td>NaN</td>\n",
       "      <td>NaN</td>\n",
       "      <td>NaN</td>\n",
       "    </tr>\n",
       "    <tr>\n",
       "      <th>3</th>\n",
       "      <td>21/10/2020 14:10</td>\n",
       "      <td>@CESPDEM</td>\n",
       "      <td>@CESPDEM</td>\n",
       "      <td>#ÉchaleUnaManoATuSalud El cáncer de mama se pu...</td>\n",
       "      <td>NaN</td>\n",
       "      <td>0</td>\n",
       "      <td>2</td>\n",
       "      <td>Twitter Media Studio</td>\n",
       "      <td>5520</td>\n",
       "      <td>208</td>\n",
       "      <td>6</td>\n",
       "      <td>NaN</td>\n",
       "      <td>20/8/2015</td>\n",
       "      <td>NaN</td>\n",
       "      <td>Coordinación Estatal del Servicio Profesional ...</td>\n",
       "      <td>http://cespd.edomex.gob.mx</td>\n",
       "    </tr>\n",
       "    <tr>\n",
       "      <th>4</th>\n",
       "      <td>21/10/2020 14:08</td>\n",
       "      <td>@MileSalvini</td>\n",
       "      <td>Mi💚</td>\n",
       "      <td>Algunas se cortan y donan su pelo, otras se lo...</td>\n",
       "      <td>NaN</td>\n",
       "      <td>0</td>\n",
       "      <td>1</td>\n",
       "      <td>Twitter for iPhone</td>\n",
       "      <td>2539</td>\n",
       "      <td>850</td>\n",
       "      <td>0</td>\n",
       "      <td>NaN</td>\n",
       "      <td>26/4/2013</td>\n",
       "      <td>Santa Fe , Argentina</td>\n",
       "      <td>kinesiología y fisiatria 📚 ig:milesalvini81</td>\n",
       "      <td>NaN</td>\n",
       "    </tr>\n",
       "  </tbody>\n",
       "</table>\n",
       "</div>"
      ],
      "text/plain": [
       "               Date       Screen Name            Full Name  \\\n",
       "0  21/10/2020 14:26     @CecytemJocot   CECyTEM Jocotitlán   \n",
       "1  21/10/2020 14:15  @CecytemChicolpn  CECyTEM Chicoloapan   \n",
       "2  21/10/2020 14:14   @CecytemJilotep    CECyTEM Jilotepec   \n",
       "3  21/10/2020 14:10          @CESPDEM             @CESPDEM   \n",
       "4  21/10/2020 14:08      @MileSalvini                  Mi💚   \n",
       "\n",
       "                                          Tweet Text  \\\n",
       "0  #OctubreRosa. El cáncer de mama se puede preve...   \n",
       "1  #ÉchaleUnaManoATuSalud #OctubreRosa El cáncer ...   \n",
       "2  Acude a tu médico o realiza la autoexploración...   \n",
       "3  #ÉchaleUnaManoATuSalud El cáncer de mama se pu...   \n",
       "4  Algunas se cortan y donan su pelo, otras se lo...   \n",
       "\n",
       "                      Link(s)  Retweets  Favorites                   App  \\\n",
       "0  http://salud.edomex.gob.mx         0          0   Twitter for Android   \n",
       "1  http://salud.edomex.gob.mx         0          0       Twitter Web App   \n",
       "2                         NaN         0          0   Twitter for Android   \n",
       "3                         NaN         0          2  Twitter Media Studio   \n",
       "4                         NaN         0          1    Twitter for iPhone   \n",
       "\n",
       "   Followers  Follows  Listed Verfied User Since             Location.1  \\\n",
       "0        452      132       2     NaN  31/5/2015     Jocotitlán, México   \n",
       "1        643      393       4     NaN  26/5/2015  Chicoloapan de Juárez   \n",
       "2        388      165       2     NaN  10/7/2015                    NaN   \n",
       "3       5520      208       6     NaN  20/8/2015                    NaN   \n",
       "4       2539      850       0     NaN  26/4/2013   Santa Fe , Argentina   \n",
       "\n",
       "                                                 Bio  \\\n",
       "0                                                NaN   \n",
       "1                                                NaN   \n",
       "2                                                NaN   \n",
       "3  Coordinación Estatal del Servicio Profesional ...   \n",
       "4        kinesiología y fisiatria 📚 ig:milesalvini81   \n",
       "\n",
       "                                         Website  \n",
       "0   http://facebook.com/CecytemPlantelJocotitlan  \n",
       "1  http://facebook.com/CecytemPlantelChicoloapan  \n",
       "2                                            NaN  \n",
       "3                     http://cespd.edomex.gob.mx  \n",
       "4                                            NaN  "
      ]
     },
     "execution_count": 3,
     "metadata": {},
     "output_type": "execute_result"
    }
   ],
   "source": [
    "# First 5 records on the dataframe\n",
    "df.head()"
   ]
  },
  {
   "cell_type": "code",
   "execution_count": 4,
   "metadata": {},
   "outputs": [
    {
     "name": "stdout",
     "output_type": "stream",
     "text": [
      "<class 'pandas.core.frame.DataFrame'>\n",
      "RangeIndex: 300 entries, 0 to 299\n",
      "Data columns (total 16 columns):\n",
      " #   Column       Non-Null Count  Dtype \n",
      "---  ------       --------------  ----- \n",
      " 0   Date         300 non-null    object\n",
      " 1   Screen Name  300 non-null    object\n",
      " 2   Full Name    300 non-null    object\n",
      " 3   Tweet Text   300 non-null    object\n",
      " 4   Link(s)      95 non-null     object\n",
      " 5   Retweets     300 non-null    int64 \n",
      " 6   Favorites    300 non-null    int64 \n",
      " 7   App          300 non-null    object\n",
      " 8   Followers    300 non-null    int64 \n",
      " 9   Follows      300 non-null    int64 \n",
      " 10  Listed       300 non-null    int64 \n",
      " 11  Verfied      32 non-null     object\n",
      " 12  User Since   300 non-null    object\n",
      " 13  Location.1   257 non-null    object\n",
      " 14  Bio          269 non-null    object\n",
      " 15  Website      207 non-null    object\n",
      "dtypes: int64(5), object(11)\n",
      "memory usage: 37.6+ KB\n"
     ]
    }
   ],
   "source": [
    "# General information of the dataframe\n",
    "df.info()"
   ]
  },
  {
   "cell_type": "markdown",
   "metadata": {},
   "source": [
    "## Date Time Format\n",
    "As done in the previous project, I will change the datetime format in case I could take advantage from it later on."
   ]
  },
  {
   "cell_type": "code",
   "execution_count": 5,
   "metadata": {},
   "outputs": [],
   "source": [
    "# ARCHIVER_COPY\n",
    "\n",
    "# Create a new column to separete the Hour from the Date in the index=1, name='Hour', full of 0's\n",
    "df.insert(1, 'Hour', 0)\n",
    "\n",
    "# Iteration to slice the columns 'Date'\n",
    "for index, row in df.iterrows():\n",
    "    # Last 5 leters on 'Date' goes for the 'Hour' column on its respective index\n",
    "    df['Hour'][index] = df['Date'][index][-5:]\n",
    "    # First 6 leter on 'Date' updates the 'Date' column on its respective index\n",
    "    df['Date'][index] = df['Date'][index][:-6]\n",
    "    \n",
    "# Applying format of a datetime data type to the columns 'Date' and 'Hour'\n",
    "df['Date'] = pd.to_datetime(df['Date'])\n",
    "df['Hour'] = pd.to_datetime(df['Hour'], format='%H:%M').dt.time"
   ]
  },
  {
   "cell_type": "code",
   "execution_count": 6,
   "metadata": {},
   "outputs": [
    {
     "name": "stdout",
     "output_type": "stream",
     "text": [
      "<class 'pandas.core.frame.DataFrame'>\n",
      "RangeIndex: 300 entries, 0 to 299\n",
      "Data columns (total 17 columns):\n",
      " #   Column       Non-Null Count  Dtype         \n",
      "---  ------       --------------  -----         \n",
      " 0   Date         300 non-null    datetime64[ns]\n",
      " 1   Hour         300 non-null    object        \n",
      " 2   Screen Name  300 non-null    object        \n",
      " 3   Full Name    300 non-null    object        \n",
      " 4   Tweet Text   300 non-null    object        \n",
      " 5   Link(s)      95 non-null     object        \n",
      " 6   Retweets     300 non-null    int64         \n",
      " 7   Favorites    300 non-null    int64         \n",
      " 8   App          300 non-null    object        \n",
      " 9   Followers    300 non-null    int64         \n",
      " 10  Follows      300 non-null    int64         \n",
      " 11  Listed       300 non-null    int64         \n",
      " 12  Verfied      32 non-null     object        \n",
      " 13  User Since   300 non-null    object        \n",
      " 14  Location.1   257 non-null    object        \n",
      " 15  Bio          269 non-null    object        \n",
      " 16  Website      207 non-null    object        \n",
      "dtypes: datetime64[ns](1), int64(5), object(11)\n",
      "memory usage: 40.0+ KB\n"
     ]
    }
   ],
   "source": [
    "# General information of the dataframe to verify that the datatype has successfully changed\n",
    "df.info()"
   ]
  },
  {
   "cell_type": "code",
   "execution_count": 7,
   "metadata": {},
   "outputs": [
    {
     "data": {
      "text/html": [
       "<div>\n",
       "<style scoped>\n",
       "    .dataframe tbody tr th:only-of-type {\n",
       "        vertical-align: middle;\n",
       "    }\n",
       "\n",
       "    .dataframe tbody tr th {\n",
       "        vertical-align: top;\n",
       "    }\n",
       "\n",
       "    .dataframe thead th {\n",
       "        text-align: right;\n",
       "    }\n",
       "</style>\n",
       "<table border=\"1\" class=\"dataframe\">\n",
       "  <thead>\n",
       "    <tr style=\"text-align: right;\">\n",
       "      <th></th>\n",
       "      <th>Date</th>\n",
       "      <th>Hour</th>\n",
       "      <th>Screen Name</th>\n",
       "      <th>Full Name</th>\n",
       "      <th>Tweet Text</th>\n",
       "      <th>Link(s)</th>\n",
       "      <th>Retweets</th>\n",
       "      <th>Favorites</th>\n",
       "      <th>App</th>\n",
       "      <th>Followers</th>\n",
       "      <th>Follows</th>\n",
       "      <th>Listed</th>\n",
       "      <th>Verfied</th>\n",
       "      <th>User Since</th>\n",
       "      <th>Location.1</th>\n",
       "      <th>Bio</th>\n",
       "      <th>Website</th>\n",
       "    </tr>\n",
       "  </thead>\n",
       "  <tbody>\n",
       "    <tr>\n",
       "      <th>0</th>\n",
       "      <td>2020-10-21</td>\n",
       "      <td>14:26:00</td>\n",
       "      <td>@CecytemJocot</td>\n",
       "      <td>CECyTEM Jocotitlán</td>\n",
       "      <td>#OctubreRosa. El cáncer de mama se puede preve...</td>\n",
       "      <td>http://salud.edomex.gob.mx</td>\n",
       "      <td>0</td>\n",
       "      <td>0</td>\n",
       "      <td>Twitter for Android</td>\n",
       "      <td>452</td>\n",
       "      <td>132</td>\n",
       "      <td>2</td>\n",
       "      <td>NaN</td>\n",
       "      <td>31/5/2015</td>\n",
       "      <td>Jocotitlán, México</td>\n",
       "      <td>NaN</td>\n",
       "      <td>http://facebook.com/CecytemPlantelJocotitlan</td>\n",
       "    </tr>\n",
       "    <tr>\n",
       "      <th>1</th>\n",
       "      <td>2020-10-21</td>\n",
       "      <td>14:15:00</td>\n",
       "      <td>@CecytemChicolpn</td>\n",
       "      <td>CECyTEM Chicoloapan</td>\n",
       "      <td>#ÉchaleUnaManoATuSalud #OctubreRosa El cáncer ...</td>\n",
       "      <td>http://salud.edomex.gob.mx</td>\n",
       "      <td>0</td>\n",
       "      <td>0</td>\n",
       "      <td>Twitter Web App</td>\n",
       "      <td>643</td>\n",
       "      <td>393</td>\n",
       "      <td>4</td>\n",
       "      <td>NaN</td>\n",
       "      <td>26/5/2015</td>\n",
       "      <td>Chicoloapan de Juárez</td>\n",
       "      <td>NaN</td>\n",
       "      <td>http://facebook.com/CecytemPlantelChicoloapan</td>\n",
       "    </tr>\n",
       "    <tr>\n",
       "      <th>2</th>\n",
       "      <td>2020-10-21</td>\n",
       "      <td>14:14:00</td>\n",
       "      <td>@CecytemJilotep</td>\n",
       "      <td>CECyTEM Jilotepec</td>\n",
       "      <td>Acude a tu médico o realiza la autoexploración...</td>\n",
       "      <td>NaN</td>\n",
       "      <td>0</td>\n",
       "      <td>0</td>\n",
       "      <td>Twitter for Android</td>\n",
       "      <td>388</td>\n",
       "      <td>165</td>\n",
       "      <td>2</td>\n",
       "      <td>NaN</td>\n",
       "      <td>10/7/2015</td>\n",
       "      <td>NaN</td>\n",
       "      <td>NaN</td>\n",
       "      <td>NaN</td>\n",
       "    </tr>\n",
       "    <tr>\n",
       "      <th>3</th>\n",
       "      <td>2020-10-21</td>\n",
       "      <td>14:10:00</td>\n",
       "      <td>@CESPDEM</td>\n",
       "      <td>@CESPDEM</td>\n",
       "      <td>#ÉchaleUnaManoATuSalud El cáncer de mama se pu...</td>\n",
       "      <td>NaN</td>\n",
       "      <td>0</td>\n",
       "      <td>2</td>\n",
       "      <td>Twitter Media Studio</td>\n",
       "      <td>5520</td>\n",
       "      <td>208</td>\n",
       "      <td>6</td>\n",
       "      <td>NaN</td>\n",
       "      <td>20/8/2015</td>\n",
       "      <td>NaN</td>\n",
       "      <td>Coordinación Estatal del Servicio Profesional ...</td>\n",
       "      <td>http://cespd.edomex.gob.mx</td>\n",
       "    </tr>\n",
       "    <tr>\n",
       "      <th>4</th>\n",
       "      <td>2020-10-21</td>\n",
       "      <td>14:08:00</td>\n",
       "      <td>@MileSalvini</td>\n",
       "      <td>Mi💚</td>\n",
       "      <td>Algunas se cortan y donan su pelo, otras se lo...</td>\n",
       "      <td>NaN</td>\n",
       "      <td>0</td>\n",
       "      <td>1</td>\n",
       "      <td>Twitter for iPhone</td>\n",
       "      <td>2539</td>\n",
       "      <td>850</td>\n",
       "      <td>0</td>\n",
       "      <td>NaN</td>\n",
       "      <td>26/4/2013</td>\n",
       "      <td>Santa Fe , Argentina</td>\n",
       "      <td>kinesiología y fisiatria 📚 ig:milesalvini81</td>\n",
       "      <td>NaN</td>\n",
       "    </tr>\n",
       "  </tbody>\n",
       "</table>\n",
       "</div>"
      ],
      "text/plain": [
       "        Date      Hour       Screen Name            Full Name  \\\n",
       "0 2020-10-21  14:26:00     @CecytemJocot   CECyTEM Jocotitlán   \n",
       "1 2020-10-21  14:15:00  @CecytemChicolpn  CECyTEM Chicoloapan   \n",
       "2 2020-10-21  14:14:00   @CecytemJilotep    CECyTEM Jilotepec   \n",
       "3 2020-10-21  14:10:00          @CESPDEM             @CESPDEM   \n",
       "4 2020-10-21  14:08:00      @MileSalvini                  Mi💚   \n",
       "\n",
       "                                          Tweet Text  \\\n",
       "0  #OctubreRosa. El cáncer de mama se puede preve...   \n",
       "1  #ÉchaleUnaManoATuSalud #OctubreRosa El cáncer ...   \n",
       "2  Acude a tu médico o realiza la autoexploración...   \n",
       "3  #ÉchaleUnaManoATuSalud El cáncer de mama se pu...   \n",
       "4  Algunas se cortan y donan su pelo, otras se lo...   \n",
       "\n",
       "                      Link(s)  Retweets  Favorites                   App  \\\n",
       "0  http://salud.edomex.gob.mx         0          0   Twitter for Android   \n",
       "1  http://salud.edomex.gob.mx         0          0       Twitter Web App   \n",
       "2                         NaN         0          0   Twitter for Android   \n",
       "3                         NaN         0          2  Twitter Media Studio   \n",
       "4                         NaN         0          1    Twitter for iPhone   \n",
       "\n",
       "   Followers  Follows  Listed Verfied User Since             Location.1  \\\n",
       "0        452      132       2     NaN  31/5/2015     Jocotitlán, México   \n",
       "1        643      393       4     NaN  26/5/2015  Chicoloapan de Juárez   \n",
       "2        388      165       2     NaN  10/7/2015                    NaN   \n",
       "3       5520      208       6     NaN  20/8/2015                    NaN   \n",
       "4       2539      850       0     NaN  26/4/2013   Santa Fe , Argentina   \n",
       "\n",
       "                                                 Bio  \\\n",
       "0                                                NaN   \n",
       "1                                                NaN   \n",
       "2                                                NaN   \n",
       "3  Coordinación Estatal del Servicio Profesional ...   \n",
       "4        kinesiología y fisiatria 📚 ig:milesalvini81   \n",
       "\n",
       "                                         Website  \n",
       "0   http://facebook.com/CecytemPlantelJocotitlan  \n",
       "1  http://facebook.com/CecytemPlantelChicoloapan  \n",
       "2                                            NaN  \n",
       "3                     http://cespd.edomex.gob.mx  \n",
       "4                                            NaN  "
      ]
     },
     "execution_count": 7,
     "metadata": {},
     "output_type": "execute_result"
    }
   ],
   "source": [
    "# First 5 records on the dataframe\n",
    "df.head()"
   ]
  },
  {
   "cell_type": "markdown",
   "metadata": {},
   "source": [
    "## Rename Columns\n",
    "For practicity, I rename some columns in case I need to work with dot-notation."
   ]
  },
  {
   "cell_type": "code",
   "execution_count": 8,
   "metadata": {},
   "outputs": [],
   "source": [
    "# To create the dictionary with the new column names for practicity\n",
    "to_rename_archiver ={'Screen Name':'UserName', 'Full Name':'FullName', 'Tweet Text':'Tweet', 'User Since':'UserSince', 'Location.1':'Location'}\n",
    "\n",
    "# Renaming the columns\n",
    "df = df.rename(columns=to_rename_archiver)"
   ]
  },
  {
   "cell_type": "code",
   "execution_count": 9,
   "metadata": {},
   "outputs": [
    {
     "data": {
      "text/plain": [
       "Index(['Date', 'Hour', 'UserName', 'FullName', 'Tweet', 'Link(s)', 'Retweets',\n",
       "       'Favorites', 'App', 'Followers', 'Follows', 'Listed', 'Verfied',\n",
       "       'UserSince', 'Location', 'Bio', 'Website'],\n",
       "      dtype='object')"
      ]
     },
     "execution_count": 9,
     "metadata": {},
     "output_type": "execute_result"
    }
   ],
   "source": [
    "# Verifying that the names has successfully changed\n",
    "df.columns"
   ]
  },
  {
   "cell_type": "markdown",
   "metadata": {},
   "source": [
    "## Visualization\n",
    "To start with the visualization, I will first investigate with the records to see if I can get valuable facts.\n",
    "\n",
    "Firstly, I would like to know the accounts that have more posts, which can be done wit the value_counts module."
   ]
  },
  {
   "cell_type": "code",
   "execution_count": 10,
   "metadata": {},
   "outputs": [],
   "source": [
    "# Counter of times each UserName tweeted\n",
    "userNames = df['UserName'].value_counts()"
   ]
  },
  {
   "cell_type": "code",
   "execution_count": 11,
   "metadata": {
    "scrolled": true
   },
   "outputs": [
    {
     "data": {
      "text/plain": [
       "@VPITV              10\n",
       "@encaminobb          4\n",
       "@ITEM_Semov          3\n",
       "@RevistaHC           3\n",
       "@comecyt             3\n",
       "                    ..\n",
       "@PhilAndTheJets      1\n",
       "@CafeMarino          1\n",
       "@SilvanaMagalyM4     1\n",
       "@AlejandroMaciel     1\n",
       "@ADNsur              1\n",
       "Name: UserName, Length: 229, dtype: int64"
      ]
     },
     "execution_count": 11,
     "metadata": {},
     "output_type": "execute_result"
    }
   ],
   "source": [
    "userNames"
   ]
  },
  {
   "cell_type": "markdown",
   "metadata": {},
   "source": [
    "Once I have done the latter, I would like to know the TOP 3 accounts that post the most while the data were recorded."
   ]
  },
  {
   "cell_type": "code",
   "execution_count": 12,
   "metadata": {},
   "outputs": [
    {
     "data": {
      "text/plain": [
       "['@VPITV', '@encaminobb', '@ITEM_Semov']"
      ]
     },
     "execution_count": 12,
     "metadata": {},
     "output_type": "execute_result"
    }
   ],
   "source": [
    "# Discriminating all the values that does not correspond to the top 3\n",
    "top_acc = userNames[:-226].keys().to_list()\n",
    "top_acc"
   ]
  },
  {
   "cell_type": "markdown",
   "metadata": {},
   "source": [
    "But it is of my interest to know the percentage of their post among the other posts, to verify that they indeed have an impact on the spread of the Breast Cancer Awareness. Once I would have done that, I might be able to plot a pie chart to see their proportion based on the total of posts in the records."
   ]
  },
  {
   "cell_type": "code",
   "execution_count": 13,
   "metadata": {},
   "outputs": [
    {
     "data": {
      "text/plain": [
       "[0.03333333333333333, 0.013333333333333334, 0.01]"
      ]
     },
     "execution_count": 13,
     "metadata": {},
     "output_type": "execute_result"
    }
   ],
   "source": [
    "# Init list\n",
    "top_tweets = []\n",
    "\n",
    "# Iterate over the top 3 to calculate its percentage\n",
    "for i in range(3):\n",
    "    top_tweets.append(userNames[i]/300)\n",
    "    \n",
    "top_tweets"
   ]
  },
  {
   "cell_type": "code",
   "execution_count": 14,
   "metadata": {},
   "outputs": [
    {
     "data": {
      "image/png": "[encoded data removed]",
      "text/plain": [
       "<Figure size 720x720 with 1 Axes>"
      ]
     },
     "metadata": {},
     "output_type": "display_data"
    }
   ],
   "source": [
    "# I decided to use the pink gama of colours to have a balance (Anderson) on the final presentation\n",
    "colors = ['violet', 'magenta', 'thistle']\n",
    "explode = (0.2, 0.2, 0.3)\n",
    "labels = top_acc\n",
    "\n",
    "# Plot pie chart\n",
    "plt.figure(figsize=[10,10])\n",
    "plt.pie(top_tweets, explode=explode, labels=labels, colors=colors, autopct='%1.1f%%', shadow=False)\n",
    "plt.title('Percentage of Top 3 Accounts', fontsize=24)\n",
    "plt.savefig('pie.jpg',dpi=500)\n",
    "plt.show()"
   ]
  },
  {
   "cell_type": "markdown",
   "metadata": {},
   "source": [
    "They three accounts seem not to be as impacting as I originally would thought. So, I must cosider more variables to relate.\n",
    "The number of Retweets and the number of Favorites might be a option since they both are considered strong on the social media engagement."
   ]
  },
  {
   "cell_type": "code",
   "execution_count": 15,
   "metadata": {},
   "outputs": [
    {
     "data": {
      "text/plain": [
       "0     172\n",
       "1      50\n",
       "2      25\n",
       "3      13\n",
       "4      12\n",
       "5      10\n",
       "8       3\n",
       "6       3\n",
       "11      2\n",
       "7       1\n",
       "61      1\n",
       "57      1\n",
       "10      1\n",
       "12      1\n",
       "13      1\n",
       "27      1\n",
       "29      1\n",
       "35      1\n",
       "9       1\n",
       "Name: Retweets, dtype: int64"
      ]
     },
     "execution_count": 15,
     "metadata": {},
     "output_type": "execute_result"
    }
   ],
   "source": [
    "# value_counts on Retweets to see the most Retweets a post can get\n",
    "df['Retweets'].value_counts()"
   ]
  },
  {
   "cell_type": "code",
   "execution_count": 16,
   "metadata": {},
   "outputs": [
    {
     "data": {
      "text/plain": [
       "@Edomex    1\n",
       "Name: UserName, dtype: int64"
      ]
     },
     "execution_count": 16,
     "metadata": {},
     "output_type": "execute_result"
    }
   ],
   "source": [
    "# value_count to obtain the first most Retweeted\n",
    "df['UserName'].where(df['Retweets'] == 61).value_counts()"
   ]
  },
  {
   "cell_type": "code",
   "execution_count": 17,
   "metadata": {},
   "outputs": [
    {
     "data": {
      "text/plain": [
       "@SS_Edomex    1\n",
       "Name: UserName, dtype: int64"
      ]
     },
     "execution_count": 17,
     "metadata": {},
     "output_type": "execute_result"
    }
   ],
   "source": [
    "# value_count to obtain the second most Retweeted\n",
    "df['UserName'].where(df['Retweets'] == 57).value_counts()"
   ]
  },
  {
   "cell_type": "code",
   "execution_count": 18,
   "metadata": {},
   "outputs": [
    {
     "data": {
      "text/plain": [
       "@Independiente    1\n",
       "Name: UserName, dtype: int64"
      ]
     },
     "execution_count": 18,
     "metadata": {},
     "output_type": "execute_result"
    }
   ],
   "source": [
    "# value_count to obtain the thirs most Retweeted\n",
    "df['UserName'].where(df['Retweets'] == 35).value_counts()"
   ]
  },
  {
   "cell_type": "code",
   "execution_count": 19,
   "metadata": {},
   "outputs": [
    {
     "data": {
      "text/plain": [
       "@Edomex             1\n",
       "@Adela_Roman        1\n",
       "@Gabriel_OShea      1\n",
       "@Independiente      1\n",
       "@Dra_Guaripete      1\n",
       "@SS_Edomex          1\n",
       "@ArturoH19772369    1\n",
       "@VPITV              1\n",
       "@SecretariadoGEM    1\n",
       "@STGedomex          1\n",
       "Name: UserName, dtype: int64"
      ]
     },
     "execution_count": 19,
     "metadata": {},
     "output_type": "execute_result"
    }
   ],
   "source": [
    "# Firltering of the most retweeted posts with its respective User Name\n",
    "mostRT = df['UserName'].where(df['Retweets'] >= 10).value_counts()\n",
    "mostRT"
   ]
  },
  {
   "cell_type": "code",
   "execution_count": 20,
   "metadata": {},
   "outputs": [
    {
     "data": {
      "text/plain": [
       "0      114\n",
       "1       49\n",
       "2       36\n",
       "4       21\n",
       "3       16\n",
       "5       14\n",
       "6        7\n",
       "7        7\n",
       "9        5\n",
       "11       5\n",
       "8        4\n",
       "13       3\n",
       "22       2\n",
       "18       2\n",
       "15       2\n",
       "12       1\n",
       "330      1\n",
       "103      1\n",
       "16       1\n",
       "20       1\n",
       "21       1\n",
       "23       1\n",
       "24       1\n",
       "27       1\n",
       "28       1\n",
       "34       1\n",
       "56       1\n",
       "14       1\n",
       "Name: Favorites, dtype: int64"
      ]
     },
     "execution_count": 20,
     "metadata": {},
     "output_type": "execute_result"
    }
   ],
   "source": [
    "# value_counts on Favourites to see the most liked post\n",
    "df['Favorites'].value_counts()"
   ]
  },
  {
   "cell_type": "code",
   "execution_count": 21,
   "metadata": {},
   "outputs": [],
   "source": [
    "# Firltering of the most liked posts (greater tha 20 likes) with its respective User Name\n",
    "mostFav = df['UserName'].where(df['Favorites'] >= 20).value_counts()"
   ]
  },
  {
   "cell_type": "markdown",
   "metadata": {},
   "source": [
    "And now, I compare in which accounts they both share the most retweeted and the most liked posts."
   ]
  },
  {
   "cell_type": "code",
   "execution_count": 22,
   "metadata": {},
   "outputs": [
    {
     "data": {
      "text/plain": [
       "['@Edomex',\n",
       " '@Adela_Roman',\n",
       " '@Gabriel_OShea',\n",
       " '@Independiente',\n",
       " '@SS_Edomex',\n",
       " '@SecretariadoGEM',\n",
       " '@STGedomex']"
      ]
     },
     "execution_count": 22,
     "metadata": {},
     "output_type": "execute_result"
    }
   ],
   "source": [
    "# Init influencive accounts list\n",
    "inf_acc = []\n",
    "\n",
    "# Iteration on the mostFav which is longue (more elements) than mostRT\n",
    "for key in mostFav.keys():\n",
    "    # If the account is in both mostFav and mostRT\n",
    "    if key in mostRT.keys():\n",
    "        inf_acc.append(key)\n",
    "        \n",
    "# Most influencive accounts based on Favorites and Retweets\n",
    "inf_acc"
   ]
  },
  {
   "cell_type": "markdown",
   "metadata": {},
   "source": [
    "I can see that there are 7 accounts which posts are included in both the most Retweeted and the most Liked ones.\n",
    "\n",
    "But, how much do they post? Is the number of post done related with the engagement of the Retweets and Likes?"
   ]
  },
  {
   "cell_type": "code",
   "execution_count": 23,
   "metadata": {},
   "outputs": [
    {
     "data": {
      "text/plain": [
       "{'@Edomex': 1,\n",
       " '@Adela_Roman': 1,\n",
       " '@SS_Edomex': 1,\n",
       " '@Independiente': 1,\n",
       " '@STGedomex': 1,\n",
       " '@Gabriel_OShea': 1,\n",
       " '@SecretariadoGEM': 1}"
      ]
     },
     "execution_count": 23,
     "metadata": {},
     "output_type": "execute_result"
    }
   ],
   "source": [
    "# Init dictionary to store as a key the influencive account and the number of posts thet do\n",
    "no_tweets_inf_acc = {}\n",
    "\n",
    "# Iteration over the userNames\n",
    "for k in userNames.keys():\n",
    "    # If the userName is included in the influencive accounts, the store as a value the amount of posts of that userName\n",
    "    if k in inf_acc:\n",
    "        no_tweets_inf_acc[k] = userNames[k]\n",
    "        \n",
    "no_tweets_inf_acc"
   ]
  },
  {
   "cell_type": "markdown",
   "metadata": {},
   "source": [
    "Those accounts barely post something related with the Breast Cancer Awareness Month. What if we consider their followers."
   ]
  },
  {
   "cell_type": "code",
   "execution_count": 24,
   "metadata": {},
   "outputs": [
    {
     "data": {
      "text/html": [
       "<div>\n",
       "<style scoped>\n",
       "    .dataframe tbody tr th:only-of-type {\n",
       "        vertical-align: middle;\n",
       "    }\n",
       "\n",
       "    .dataframe tbody tr th {\n",
       "        vertical-align: top;\n",
       "    }\n",
       "\n",
       "    .dataframe thead th {\n",
       "        text-align: right;\n",
       "    }\n",
       "</style>\n",
       "<table border=\"1\" class=\"dataframe\">\n",
       "  <thead>\n",
       "    <tr style=\"text-align: right;\">\n",
       "      <th></th>\n",
       "      <th>Date</th>\n",
       "      <th>Hour</th>\n",
       "      <th>UserName</th>\n",
       "      <th>FullName</th>\n",
       "      <th>Tweet</th>\n",
       "      <th>Link(s)</th>\n",
       "      <th>Retweets</th>\n",
       "      <th>Favorites</th>\n",
       "      <th>App</th>\n",
       "      <th>Followers</th>\n",
       "      <th>Follows</th>\n",
       "      <th>Listed</th>\n",
       "      <th>Verfied</th>\n",
       "      <th>UserSince</th>\n",
       "      <th>Location</th>\n",
       "      <th>Bio</th>\n",
       "      <th>Website</th>\n",
       "    </tr>\n",
       "  </thead>\n",
       "  <tbody>\n",
       "    <tr>\n",
       "      <th>129</th>\n",
       "      <td>2020-10-21</td>\n",
       "      <td>16:35:00</td>\n",
       "      <td>@VPITV</td>\n",
       "      <td>VPItv</td>\n",
       "      <td>El cáncer de mama no distingue de género, raza...</td>\n",
       "      <td>NaN</td>\n",
       "      <td>4</td>\n",
       "      <td>3</td>\n",
       "      <td>Hootsuite Inc.</td>\n",
       "      <td>537519</td>\n",
       "      <td>565</td>\n",
       "      <td>1168</td>\n",
       "      <td>✅</td>\n",
       "      <td>18/12/2015</td>\n",
       "      <td>Venezuela</td>\n",
       "      <td>Canal de Noticias EN VIVO 🔴 I Mira nuestra señ...</td>\n",
       "      <td>http://www.vpitv.com</td>\n",
       "    </tr>\n",
       "    <tr>\n",
       "      <th>156</th>\n",
       "      <td>2020-10-21</td>\n",
       "      <td>14:35:00</td>\n",
       "      <td>@VPITV</td>\n",
       "      <td>VPItv</td>\n",
       "      <td>El cáncer de mama no distingue de género, raza...</td>\n",
       "      <td>NaN</td>\n",
       "      <td>5</td>\n",
       "      <td>7</td>\n",
       "      <td>Hootsuite Inc.</td>\n",
       "      <td>537519</td>\n",
       "      <td>565</td>\n",
       "      <td>1168</td>\n",
       "      <td>✅</td>\n",
       "      <td>18/12/2015</td>\n",
       "      <td>Venezuela</td>\n",
       "      <td>Canal de Noticias EN VIVO 🔴 I Mira nuestra señ...</td>\n",
       "      <td>http://www.vpitv.com</td>\n",
       "    </tr>\n",
       "    <tr>\n",
       "      <th>109</th>\n",
       "      <td>2020-10-21</td>\n",
       "      <td>18:35:00</td>\n",
       "      <td>@VPITV</td>\n",
       "      <td>VPItv</td>\n",
       "      <td>El cáncer de mama no distingue de género, raza...</td>\n",
       "      <td>NaN</td>\n",
       "      <td>11</td>\n",
       "      <td>13</td>\n",
       "      <td>Hootsuite Inc.</td>\n",
       "      <td>537519</td>\n",
       "      <td>565</td>\n",
       "      <td>1168</td>\n",
       "      <td>✅</td>\n",
       "      <td>18/12/2015</td>\n",
       "      <td>Venezuela</td>\n",
       "      <td>Canal de Noticias EN VIVO 🔴 I Mira nuestra señ...</td>\n",
       "      <td>http://www.vpitv.com</td>\n",
       "    </tr>\n",
       "    <tr>\n",
       "      <th>273</th>\n",
       "      <td>2020-10-22</td>\n",
       "      <td>16:35:00</td>\n",
       "      <td>@VPITV</td>\n",
       "      <td>VPItv</td>\n",
       "      <td>¡Cuídate y quiérete! Es esencial realizarte un...</td>\n",
       "      <td>NaN</td>\n",
       "      <td>1</td>\n",
       "      <td>7</td>\n",
       "      <td>Hootsuite Inc.</td>\n",
       "      <td>537582</td>\n",
       "      <td>565</td>\n",
       "      <td>1167</td>\n",
       "      <td>✅</td>\n",
       "      <td>18/12/2015</td>\n",
       "      <td>Venezuela</td>\n",
       "      <td>Canal de Noticias EN VIVO 🔴 I Mira nuestra señ...</td>\n",
       "      <td>http://www.vpitv.com</td>\n",
       "    </tr>\n",
       "    <tr>\n",
       "      <th>200</th>\n",
       "      <td>2020-10-22</td>\n",
       "      <td>22:05:00</td>\n",
       "      <td>@VPITV</td>\n",
       "      <td>VPItv</td>\n",
       "      <td>¡Cuídate y quiérete! Es esencial realizarte un...</td>\n",
       "      <td>NaN</td>\n",
       "      <td>1</td>\n",
       "      <td>0</td>\n",
       "      <td>Hootsuite Inc.</td>\n",
       "      <td>537582</td>\n",
       "      <td>565</td>\n",
       "      <td>1167</td>\n",
       "      <td>✅</td>\n",
       "      <td>18/12/2015</td>\n",
       "      <td>Venezuela</td>\n",
       "      <td>Canal de Noticias EN VIVO 🔴 I Mira nuestra señ...</td>\n",
       "      <td>http://www.vpitv.com</td>\n",
       "    </tr>\n",
       "  </tbody>\n",
       "</table>\n",
       "</div>"
      ],
      "text/plain": [
       "          Date      Hour UserName FullName  \\\n",
       "129 2020-10-21  16:35:00   @VPITV    VPItv   \n",
       "156 2020-10-21  14:35:00   @VPITV    VPItv   \n",
       "109 2020-10-21  18:35:00   @VPITV    VPItv   \n",
       "273 2020-10-22  16:35:00   @VPITV    VPItv   \n",
       "200 2020-10-22  22:05:00   @VPITV    VPItv   \n",
       "\n",
       "                                                 Tweet Link(s)  Retweets  \\\n",
       "129  El cáncer de mama no distingue de género, raza...     NaN         4   \n",
       "156  El cáncer de mama no distingue de género, raza...     NaN         5   \n",
       "109  El cáncer de mama no distingue de género, raza...     NaN        11   \n",
       "273  ¡Cuídate y quiérete! Es esencial realizarte un...     NaN         1   \n",
       "200  ¡Cuídate y quiérete! Es esencial realizarte un...     NaN         1   \n",
       "\n",
       "     Favorites             App  Followers  Follows  Listed Verfied  \\\n",
       "129          3  Hootsuite Inc.     537519      565    1168       ✅   \n",
       "156          7  Hootsuite Inc.     537519      565    1168       ✅   \n",
       "109         13  Hootsuite Inc.     537519      565    1168       ✅   \n",
       "273          7  Hootsuite Inc.     537582      565    1167       ✅   \n",
       "200          0  Hootsuite Inc.     537582      565    1167       ✅   \n",
       "\n",
       "      UserSince   Location                                                Bio  \\\n",
       "129  18/12/2015  Venezuela  Canal de Noticias EN VIVO 🔴 I Mira nuestra señ...   \n",
       "156  18/12/2015  Venezuela  Canal de Noticias EN VIVO 🔴 I Mira nuestra señ...   \n",
       "109  18/12/2015  Venezuela  Canal de Noticias EN VIVO 🔴 I Mira nuestra señ...   \n",
       "273  18/12/2015  Venezuela  Canal de Noticias EN VIVO 🔴 I Mira nuestra señ...   \n",
       "200  18/12/2015  Venezuela  Canal de Noticias EN VIVO 🔴 I Mira nuestra señ...   \n",
       "\n",
       "                  Website  \n",
       "129  http://www.vpitv.com  \n",
       "156  http://www.vpitv.com  \n",
       "109  http://www.vpitv.com  \n",
       "273  http://www.vpitv.com  \n",
       "200  http://www.vpitv.com  "
      ]
     },
     "execution_count": 24,
     "metadata": {},
     "output_type": "execute_result"
    }
   ],
   "source": [
    "# Sort_values by followres\n",
    "d = df.sort_values(by = 'Followers')\n",
    "# Last 5 records to cerify that I have sucessfully sorte the values\n",
    "d.tail()"
   ]
  },
  {
   "cell_type": "code",
   "execution_count": 25,
   "metadata": {},
   "outputs": [
    {
     "data": {
      "image/png": "[encoded data removed]",
      "text/plain": [
       "<Figure size 1080x720 with 1 Axes>"
      ]
     },
     "metadata": {
      "needs_background": "light"
     },
     "output_type": "display_data"
    }
   ],
   "source": [
    "# Line plot all the records to see if there is a relatio bewtee followers and the number of retweets\n",
    "plt.figure(figsize=[15,10])\n",
    "plt.grid()\n",
    "plt.plot(d['Followers'], d['Retweets'], color='deeppink')\n",
    "plt.title('Followers-Retweets Relation', fontsize=24)\n",
    "plt.xlabel('Followers', fontsize=20)\n",
    "plt.ylabel('Retweets', fontsize=20)\n",
    "plt.savefig('Followers_Retweet.png',dpi=300)"
   ]
  },
  {
   "cell_type": "markdown",
   "metadata": {},
   "source": [
    "Indeed, the more followers an account have, the more retweets their posts might get. Therefore, I can start to have a idea of the ones I have to gather for my campaign to be known.\n",
    "\n",
    "But now, how many posts will I need? How much do those influencial accounts post?"
   ]
  },
  {
   "cell_type": "code",
   "execution_count": 26,
   "metadata": {},
   "outputs": [],
   "source": [
    "# Group by userName al those records which have 150,000 followers or more\n",
    "influyente = df[df['Followers'] >= 150000].groupby('UserName').count()\n",
    "# Mean of posts done by influential accounts\n",
    "infl_mean = influyente.Tweet.mean()\n",
    "\n",
    "# Group by userName al those records which have less than 150,000 followers\n",
    "no_influyente = df[df['Followers'] < 150000].groupby('UserName').count()\n",
    "# Mean of posts done by no influential accounts\n",
    "no_infl_mean = no_influyente.Tweet.mean()"
   ]
  },
  {
   "cell_type": "code",
   "execution_count": 27,
   "metadata": {},
   "outputs": [
    {
     "data": {
      "text/plain": [
       "2.857142857142857"
      ]
     },
     "execution_count": 27,
     "metadata": {},
     "output_type": "execute_result"
    }
   ],
   "source": [
    "infl_mean"
   ]
  },
  {
   "cell_type": "code",
   "execution_count": 28,
   "metadata": {},
   "outputs": [
    {
     "data": {
      "text/plain": [
       "1.2612612612612613"
      ]
     },
     "execution_count": 28,
     "metadata": {},
     "output_type": "execute_result"
    }
   ],
   "source": [
    "no_infl_mean"
   ]
  },
  {
   "cell_type": "code",
   "execution_count": 29,
   "metadata": {},
   "outputs": [
    {
     "data": {
      "image/png": "[encoded data removed]",
      "text/plain": [
       "<Figure size 1080x720 with 1 Axes>"
      ]
     },
     "metadata": {
      "needs_background": "light"
     },
     "output_type": "display_data"
    }
   ],
   "source": [
    "y = [infl_mean, no_infl_mean]\n",
    "x = ['Influence', 'No Influence']\n",
    "\n",
    "# Bar plot to identify the difference between the amount of posts that influencial and non influencial accounts do by average\n",
    "plt.figure(figsize=[15,10])\n",
    "plt.grid()\n",
    "plt.title('Influence based on Tweets-Followers relation', fontsize=24)\n",
    "plt.bar(x, y, color=['deeppink', 'palevioletred'])\n",
    "plt.xlabel('Influence', fontsize=20)\n",
    "plt.ylabel('Average of Tweets', fontsize=20)\n",
    "plt.savefig('Followers_Tweets.png',dpi=300)"
   ]
  },
  {
   "cell_type": "markdown",
   "metadata": {},
   "source": [
    "## Conclusions\n",
    "Since all the graphs helps to take important decision, we can conclude that it is worth it to invest on the promotion of any campaing with those influencial accounts for our campaign to be spread as much as wanted. I have shown in this project, that it does not only matters on how much a account post but the engagement their posts has based on their followers.\n",
    "\n",
    "This project is open to further investigation to get a more accurate result on how and who to spread our campiagn with."
   ]
  },
  {
   "cell_type": "markdown",
   "metadata": {},
   "source": [
    "## First Attempt to stablish the hashtag with more engagement\n",
    "**Status: Failed**"
   ]
  },
  {
   "cell_type": "raw",
   "metadata": {},
   "source": [
    "# Copy of the data frame to have a data frame to work with the hashtags only\n",
    "hashtags = df.copy()\n",
    "\n",
    "# Create all the new columns, one per hashtag\n",
    "hashtags['#OctubreRosa'] = 0\n",
    "hashtags['#19deoctubre'] = 0\n",
    "hashtags['#DiaMundialdelCancerdeMama'] = 0\n",
    "hashtags['#oncoayuda'] = 0\n",
    "hashtags['#BancodeTapitas'] = 0\n",
    "hashtags['#CabezaenAlto'] = 0\n",
    "hashtags['#DonaCabello'] = 0\n",
    "hashtags['#PelucasOncologicas'] = 0"
   ]
  },
  {
   "cell_type": "raw",
   "metadata": {},
   "source": [
    "# Iteration to mark with a 1 if the mentioned hashtag is included on the Tweet\n",
    "for i, r in hashtags.iterrows():\n",
    "    if '#octubrerosa' in hashtags['Tweet'][i].lower():\n",
    "        hashtags['#OctubreRosa'][i] = 1\n",
    "           \n",
    "    if '#19deoctubre' in hashtags['Tweet'][i].lower():\n",
    "        hashtags['#19deoctubre'][i] = 1\n",
    "        \n",
    "    if '#diamundialdelcancerdemama' in hashtags['Tweet'][i].lower() or '#diamundialdelcáncerdemama' in hashtags['Tweet'][i].lower() or '#díamundialdelcancerdemama' in hashtags['Tweet'][i].lower() or '#díamundialdelcáncerdemama' in hashtags['Tweet'][i].lower():\n",
    "        hashtags['#DiaMundialdelCancerdeMama'][i] = 1\n",
    "        \n",
    "    if '#oncoayuda' in hashtags['Tweet'][i].lower():\n",
    "        hashtags['#oncoayuda'][i] = 1\n",
    "    \n",
    "    if '#bancodetapitas' in hashtags['Tweet'][i].lower():\n",
    "        hashtags['#BancodeTapitas'][i] = 1\n",
    "        \n",
    "    if '#cabezaenalto' in hashtags['Tweet'][i].lower():\n",
    "        hashtags['#CabezaenAlto'][i] = 1\n",
    "        \n",
    "    if '#donacabello' in hashtags['Tweet'][i].lower():\n",
    "        hashtags['#DonaCabello'][i] = 1\n",
    "        \n",
    "    if '#pelucasoncologicas' in hashtags['Tweet'][i].lower() or '#pelucasoncológicas' in hashtags['Tweet'][i].lower():\n",
    "        hashtags['#PelucasOncologicas'][i] = 1"
   ]
  },
  {
   "cell_type": "raw",
   "metadata": {},
   "source": [
    "hashtags.head()"
   ]
  },
  {
   "cell_type": "raw",
   "metadata": {},
   "source": [
    "hashtags.describe()"
   ]
  },
  {
   "cell_type": "raw",
   "metadata": {},
   "source": [
    "hashtags = hashtags.drop(['#oncoayuda', '#BancodeTapitas', '#CabezaenAlto', '#DonaCabello', '#PelucasOncologicas'], axis=1)\n",
    "hashtags.head()"
   ]
  },
  {
   "cell_type": "raw",
   "metadata": {},
   "source": [
    "hashtags.tail()"
   ]
  },
  {
   "cell_type": "raw",
   "metadata": {},
   "source": [
    "hashtags['Hashtag'] = hashtags[['#OctubreRosa', '#19deoctubre', '#DiaMundialdelCancerdeMama']].idxmax(axis=1)\n",
    "\n",
    "hashtags = hashtags.drop(['#OctubreRosa', '#19deoctubre', '#DiaMundialdelCancerdeMama'], axis=1)"
   ]
  },
  {
   "cell_type": "raw",
   "metadata": {},
   "source": [
    "hashtags"
   ]
  },
  {
   "cell_type": "raw",
   "metadata": {},
   "source": [
    "# hashtags.insert(17, 'Reachment', '')\n",
    "\n",
    "for i, r in hashtags.iterrows():\n",
    "    if hashtags['Retweets'][i] == 0:\n",
    "        hashtags['Reachment'][i] = 'No Famous'\n",
    "    elif (hashtags['Retweets'][i] >= 1) & (hashtags['Retweets'][i] <= 4):\n",
    "        hashtags['Reachment'][i] = 'Mid-Famous'\n",
    "    else:\n",
    "        hashtags['Reachment'][i] = 'Famous'"
   ]
  },
  {
   "cell_type": "raw",
   "metadata": {},
   "source": [
    "hashtags.head()"
   ]
  },
  {
   "cell_type": "raw",
   "metadata": {},
   "source": []
  },
  {
   "cell_type": "raw",
   "metadata": {},
   "source": [
    "octrosa = hashtags[hashtags['Hashtag'] == '#OctubreRosa']\n",
    "octrosa.head()"
   ]
  },
  {
   "cell_type": "raw",
   "metadata": {},
   "source": [
    "diamund = hashtags[hashtags['Hashtag'] == '#DiaMundialdelCancerdeMama']\n",
    "diamund.head()"
   ]
  },
  {
   "cell_type": "raw",
   "metadata": {},
   "source": [
    "oct_19 = hashtags[hashtags['Hashtag'] == '#19deoctubre']\n",
    "oct_19.head()"
   ]
  },
  {
   "cell_type": "raw",
   "metadata": {},
   "source": [
    "oct_rosa = octrosa.groupby('Reachment').count()\n",
    "dia_mund = diamund.groupby('Reachment').count()\n",
    "oct19 = oct_19.groupby('Reachment').count()"
   ]
  },
  {
   "cell_type": "raw",
   "metadata": {},
   "source": [
    "display(oct_rosa, dia_mund, oct19)"
   ]
  },
  {
   "cell_type": "raw",
   "metadata": {},
   "source": []
  },
  {
   "cell_type": "raw",
   "metadata": {},
   "source": [
    "labels = ['#OctubreRosa', '#19deoctubre', '#DiaMundialdelCancerdeMama']\n",
    "x = np.arange(len(labels))\n",
    "width = 0.35\n",
    "\n",
    "# fig, ax = plt.subplots()\n",
    "# rects1 = ax.bar(x - width/2, oct19.Tweet, width, label='No-famous')\n",
    "# rects2 = ax.bar(x + width/2, dia_mund.Tweet, width, label='Mid-famous')\n",
    "# rects3 = ax.bar(x + width, oct_rosa.Tweet, width, label='Famous')\n",
    "\n",
    "# # Add some text for labels, title and custom x-axis tick labels, etc.\n",
    "# ax.set_ylabel('Scores')\n",
    "# ax.set_title('Scores by group and gender')\n",
    "# ax.set_xticks(x)\n",
    "# ax.set_xticklabels(labels)\n",
    "# ax.legend()\n",
    "\n",
    "plt.figure(figsize=[9,8])\n",
    "plt.title(\"Reachness per Hashtag\", fontsize=24)\n",
    "plt.plot(x - width/2, dia_mund.Tweet, width, label='No-famous', color='lightsalmon')\n",
    "plt.xlabel('Hashtag', fontsize=20)\n",
    "plt.ylabel('# of Tweet',fontsize=20)\n",
    "# plt.tick_params(axis='x', labelsize=14)\n",
    "# plt.tick_params(axis='y', labelsize=14)\n",
    "# plt.bar(x + width/2, dia_mund.Tweet, width, align='center',label='Películas',color='skyblue')\n",
    "# plt.legend(fontsize=13)\n",
    "# plt.savefig('Actividad_Mario.jpg',dpi=300)\n",
    "plt.show()"
   ]
  },
  {
   "cell_type": "code",
   "execution_count": null,
   "metadata": {},
   "outputs": [],
   "source": []
  }
 ],
 "metadata": {
  "kernelspec": {
   "display_name": "Python 3",
   "language": "python",
   "name": "python3"
  },
  "language_info": {
   "codemirror_mode": {
    "name": "ipython",
    "version": 3
   },
   "file_extension": ".py",
   "mimetype": "text/x-python",
   "name": "python",
   "nbconvert_exporter": "python",
   "pygments_lexer": "ipython3",
   "version": "3.7.6"
  }
 },
 "nbformat": 4,
 "nbformat_minor": 4
}
